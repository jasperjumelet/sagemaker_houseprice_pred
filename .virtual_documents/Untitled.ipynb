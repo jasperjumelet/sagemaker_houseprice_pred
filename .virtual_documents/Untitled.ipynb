get_ipython().getoutput("pip install seaborn")


import pandas as pd

import matplotlib.pyplot as plt

import numpy as np


import warnings


df = pd.read_csv('train.csv')
target_col = "SalePrice"


num_cols = df.drop(["Id"], axis=1).select_dtypes(exclude="object").columns.tolist()
cat_cols = df.drop(["Id", "SalePrice"], axis=1).select_dtypes(include="object").columns.tolist()


all_features = num_cols + cat_cols


from sklearn.model_selection import train_test_split
df['SalePrice_binned'] = pd.cut(df['SalePrice'], bins=10, labels=False)

X_train, X_test, y_train, y_test = train_test_split(df[all_features],
                                                    df[target_col],
                                                    test_size=0.20,
                                                    stratify=df['SalePrice_binned'])




from sklearn.pipeline import Pipeline
from sklearn.compose import ColumnTransformer
from sklearn.impute import SimpleImputer
from sklearn.preprocessing import StandardScaler
from category_encoders import TargetEncoder
from sklearn.feature_selection import RFE
from sklearn.ensemble import RandomForestRegressor
from lightgbm import LGBMRegressor
from xgboost import XGBRegressor
from catboost import CatBoostRegressor





